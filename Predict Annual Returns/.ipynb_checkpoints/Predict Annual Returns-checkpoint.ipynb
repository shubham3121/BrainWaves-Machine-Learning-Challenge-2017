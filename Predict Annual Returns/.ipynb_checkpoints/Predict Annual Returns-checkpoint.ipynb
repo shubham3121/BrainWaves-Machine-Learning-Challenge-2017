{
 "cells": [
  {
   "cell_type": "code",
   "execution_count": 18,
   "metadata": {
    "collapsed": true
   },
   "outputs": [],
   "source": [
    "import numpy as np\n",
    "import pandas as pd\n",
    "from tqdm import tqdm\n",
    "from sklearn.preprocessing import LabelEncoder"
   ]
  },
  {
   "cell_type": "markdown",
   "metadata": {},
   "source": [
    "#### Importing Data"
   ]
  },
  {
   "cell_type": "code",
   "execution_count": 2,
   "metadata": {
    "collapsed": true
   },
   "outputs": [],
   "source": [
    "train = pd.read_csv('train.csv')\n",
    "test = pd.read_csv('test.csv')"
   ]
  },
  {
   "cell_type": "markdown",
   "metadata": {},
   "source": [
    "#### Visualizing Dataset"
   ]
  },
  {
   "cell_type": "code",
   "execution_count": 3,
   "metadata": {},
   "outputs": [
    {
     "data": {
      "text/html": [
       "<div>\n",
       "<table border=\"1\" class=\"dataframe\">\n",
       "  <thead>\n",
       "    <tr style=\"text-align: right;\">\n",
       "      <th></th>\n",
       "      <th>portfolio_id</th>\n",
       "      <th>desk_id</th>\n",
       "      <th>office_id</th>\n",
       "      <th>pf_category</th>\n",
       "      <th>start_date</th>\n",
       "      <th>sold</th>\n",
       "      <th>country_code</th>\n",
       "      <th>euribor_rate</th>\n",
       "      <th>currency</th>\n",
       "      <th>libor_rate</th>\n",
       "      <th>bought</th>\n",
       "      <th>creation_date</th>\n",
       "      <th>indicator_code</th>\n",
       "      <th>sell_date</th>\n",
       "      <th>type</th>\n",
       "      <th>hedge_value</th>\n",
       "      <th>status</th>\n",
       "      <th>return</th>\n",
       "    </tr>\n",
       "  </thead>\n",
       "  <tbody>\n",
       "    <tr>\n",
       "      <th>0</th>\n",
       "      <td>PF00001002</td>\n",
       "      <td>DSK00001001</td>\n",
       "      <td>OFF00001002</td>\n",
       "      <td>B</td>\n",
       "      <td>20040720</td>\n",
       "      <td>110000000.0</td>\n",
       "      <td>T</td>\n",
       "      <td>0.02074</td>\n",
       "      <td>USD</td>\n",
       "      <td>2.332216</td>\n",
       "      <td>1.098097e+08</td>\n",
       "      <td>20040720</td>\n",
       "      <td>NaN</td>\n",
       "      <td>20040812</td>\n",
       "      <td>B</td>\n",
       "      <td>NaN</td>\n",
       "      <td>NaN</td>\n",
       "      <td>0.02496</td>\n",
       "    </tr>\n",
       "    <tr>\n",
       "      <th>1</th>\n",
       "      <td>PF00001003</td>\n",
       "      <td>DSK00001002</td>\n",
       "      <td>OFF00001001</td>\n",
       "      <td>A</td>\n",
       "      <td>20040709</td>\n",
       "      <td>176671000.0</td>\n",
       "      <td>N</td>\n",
       "      <td>0.02074</td>\n",
       "      <td>GBP</td>\n",
       "      <td>5.269617</td>\n",
       "      <td>1.760084e+08</td>\n",
       "      <td>20040723</td>\n",
       "      <td>NaN</td>\n",
       "      <td>20040812</td>\n",
       "      <td>C</td>\n",
       "      <td>NaN</td>\n",
       "      <td>NaN</td>\n",
       "      <td>0.05496</td>\n",
       "    </tr>\n",
       "    <tr>\n",
       "      <th>2</th>\n",
       "      <td>PF00001005</td>\n",
       "      <td>DSK00001004</td>\n",
       "      <td>OFF00001001</td>\n",
       "      <td>A</td>\n",
       "      <td>20040723</td>\n",
       "      <td>56474000.0</td>\n",
       "      <td>T</td>\n",
       "      <td>0.02074</td>\n",
       "      <td>USD</td>\n",
       "      <td>2.332216</td>\n",
       "      <td>5.637953e+07</td>\n",
       "      <td>20040723</td>\n",
       "      <td>NaN</td>\n",
       "      <td>20040817</td>\n",
       "      <td>A</td>\n",
       "      <td>NaN</td>\n",
       "      <td>NaN</td>\n",
       "      <td>0.02496</td>\n",
       "    </tr>\n",
       "    <tr>\n",
       "      <th>3</th>\n",
       "      <td>PF00001006</td>\n",
       "      <td>DSK00001005</td>\n",
       "      <td>OFF00001001</td>\n",
       "      <td>A</td>\n",
       "      <td>20040609</td>\n",
       "      <td>164813000.0</td>\n",
       "      <td>T</td>\n",
       "      <td>0.02074</td>\n",
       "      <td>USD</td>\n",
       "      <td>2.332216</td>\n",
       "      <td>1.645088e+08</td>\n",
       "      <td>20040723</td>\n",
       "      <td>NaN</td>\n",
       "      <td>20040713</td>\n",
       "      <td>A</td>\n",
       "      <td>NaN</td>\n",
       "      <td>NaN</td>\n",
       "      <td>0.02496</td>\n",
       "    </tr>\n",
       "    <tr>\n",
       "      <th>4</th>\n",
       "      <td>PF00001007</td>\n",
       "      <td>DSK00001005</td>\n",
       "      <td>OFF00001002</td>\n",
       "      <td>B</td>\n",
       "      <td>20040609</td>\n",
       "      <td>140800000.0</td>\n",
       "      <td>T</td>\n",
       "      <td>0.02074</td>\n",
       "      <td>USD</td>\n",
       "      <td>2.332216</td>\n",
       "      <td>1.405402e+08</td>\n",
       "      <td>20040723</td>\n",
       "      <td>NaN</td>\n",
       "      <td>20040713</td>\n",
       "      <td>B</td>\n",
       "      <td>NaN</td>\n",
       "      <td>NaN</td>\n",
       "      <td>0.02496</td>\n",
       "    </tr>\n",
       "  </tbody>\n",
       "</table>\n",
       "</div>"
      ],
      "text/plain": [
       "  portfolio_id      desk_id    office_id pf_category  start_date         sold  \\\n",
       "0   PF00001002  DSK00001001  OFF00001002           B    20040720  110000000.0   \n",
       "1   PF00001003  DSK00001002  OFF00001001           A    20040709  176671000.0   \n",
       "2   PF00001005  DSK00001004  OFF00001001           A    20040723   56474000.0   \n",
       "3   PF00001006  DSK00001005  OFF00001001           A    20040609  164813000.0   \n",
       "4   PF00001007  DSK00001005  OFF00001002           B    20040609  140800000.0   \n",
       "\n",
       "  country_code  euribor_rate currency  libor_rate        bought  \\\n",
       "0            T       0.02074      USD    2.332216  1.098097e+08   \n",
       "1            N       0.02074      GBP    5.269617  1.760084e+08   \n",
       "2            T       0.02074      USD    2.332216  5.637953e+07   \n",
       "3            T       0.02074      USD    2.332216  1.645088e+08   \n",
       "4            T       0.02074      USD    2.332216  1.405402e+08   \n",
       "\n",
       "   creation_date indicator_code  sell_date type hedge_value status   return  \n",
       "0       20040720            NaN   20040812    B         NaN    NaN  0.02496  \n",
       "1       20040723            NaN   20040812    C         NaN    NaN  0.05496  \n",
       "2       20040723            NaN   20040817    A         NaN    NaN  0.02496  \n",
       "3       20040723            NaN   20040713    A         NaN    NaN  0.02496  \n",
       "4       20040723            NaN   20040713    B         NaN    NaN  0.02496  "
      ]
     },
     "execution_count": 3,
     "metadata": {},
     "output_type": "execute_result"
    }
   ],
   "source": [
    "train.head()"
   ]
  },
  {
   "cell_type": "code",
   "execution_count": 5,
   "metadata": {},
   "outputs": [
    {
     "name": "stdout",
     "output_type": "stream",
     "text": [
      "Shape of train data: (9366, 18)\n",
      "Shape of testing Data: (4801, 17)\n"
     ]
    }
   ],
   "source": [
    "print('Shape of train data:', train.shape)\n",
    "print('Shape of testing Data:', test.shape)"
   ]
  },
  {
   "cell_type": "code",
   "execution_count": 6,
   "metadata": {
    "collapsed": true
   },
   "outputs": [],
   "source": [
    "null_cols = [key for key, value in train.isnull().any().iteritems() if value==True]"
   ]
  },
  {
   "cell_type": "code",
   "execution_count": 9,
   "metadata": {},
   "outputs": [
    {
     "name": "stdout",
     "output_type": "stream",
     "text": [
      "Number of Null values:\n",
      "desk_id = 3665\n",
      "sold = 2\n",
      "libor_rate = 474\n",
      "bought = 2\n",
      "indicator_code = 5699\n",
      "hedge_value = 5701\n",
      "status = 3084\n"
     ]
    }
   ],
   "source": [
    "# Count Null Values\n",
    "null_list = train.isnull()\n",
    "print ('Number of Null values:')\n",
    "for col in null_cols:\n",
    "    print ('{} = {}'.format(col, sum(null_list[col])))"
   ]
  },
  {
   "cell_type": "markdown",
   "metadata": {},
   "source": [
    "#### Extract Features"
   ]
  },
  {
   "cell_type": "code",
   "execution_count": 10,
   "metadata": {
    "collapsed": true
   },
   "outputs": [],
   "source": [
    "#### Start Date\n",
    "train['start_year'] = train['start_date'].apply(lambda x: int(str(x)[0:4]))\n",
    "train['start_month'] = train['start_date'].apply(lambda x: int(str(x)[4:6]))\n",
    "train['start_date'] = train['start_date'].apply(lambda x: int(str(x)[6:8]))\n",
    "\n",
    "test['start_year'] = test['start_date'].apply(lambda x: int(str(x)[0:4]))\n",
    "test['start_month'] = test['start_date'].apply(lambda x: int(str(x)[4:6]))\n",
    "test['start_date'] = test['start_date'].apply(lambda x: int(str(x)[6:8]))"
   ]
  },
  {
   "cell_type": "code",
   "execution_count": 11,
   "metadata": {
    "collapsed": true
   },
   "outputs": [],
   "source": [
    "#### Creation Date\n",
    "train['create_year'] = train['creation_date'].apply(lambda x: int(str(x)[0:4]))\n",
    "train['create_month'] = train['creation_date'].apply(lambda x: int(str(x)[4:6]))\n",
    "train['create_date'] = train['creation_date'].apply(lambda x: int(str(x)[6:8]))\n",
    "\n",
    "test['create_year'] = test['creation_date'].apply(lambda x: int(str(x)[0:4]))\n",
    "test['create_month'] = test['creation_date'].apply(lambda x: int(str(x)[4:6]))\n",
    "test['create_date'] = test['creation_date'].apply(lambda x: int(str(x)[6:8]))"
   ]
  },
  {
   "cell_type": "code",
   "execution_count": 12,
   "metadata": {
    "collapsed": true
   },
   "outputs": [],
   "source": [
    "#### Sell date\n",
    "train['sell_year'] = train['sell_date'].apply(lambda x: int(str(x)[0:4]))\n",
    "train['sell_month'] = train['sell_date'].apply(lambda x: int(str(x)[4:6]))\n",
    "train['sell_date'] = train['sell_date'].apply(lambda x: int(str(x)[6:8]))\n",
    "\n",
    "test['sell_year'] = test['sell_date'].apply(lambda x: int(str(x)[0:4]))\n",
    "test['sell_month'] = test['sell_date'].apply(lambda x: int(str(x)[4:6]))\n",
    "test['sell_date'] = test['sell_date'].apply(lambda x: int(str(x)[6:8]))"
   ]
  },
  {
   "cell_type": "code",
   "execution_count": 13,
   "metadata": {},
   "outputs": [
    {
     "data": {
      "text/plain": [
       "portfolio_id       object\n",
       "desk_id            object\n",
       "office_id          object\n",
       "pf_category        object\n",
       "start_date          int64\n",
       "sold              float64\n",
       "country_code       object\n",
       "euribor_rate      float64\n",
       "currency           object\n",
       "libor_rate        float64\n",
       "bought            float64\n",
       "creation_date       int64\n",
       "indicator_code     object\n",
       "sell_date           int64\n",
       "type               object\n",
       "hedge_value        object\n",
       "status             object\n",
       "return            float64\n",
       "start_year          int64\n",
       "start_month         int64\n",
       "create_year         int64\n",
       "create_month        int64\n",
       "create_date         int64\n",
       "sell_year           int64\n",
       "sell_month          int64\n",
       "dtype: object"
      ]
     },
     "execution_count": 13,
     "metadata": {},
     "output_type": "execute_result"
    }
   ],
   "source": [
    "train.dtypes"
   ]
  },
  {
   "cell_type": "markdown",
   "metadata": {},
   "source": [
    "#### Preprocessing Data"
   ]
  },
  {
   "cell_type": "code",
   "execution_count": 14,
   "metadata": {
    "collapsed": true
   },
   "outputs": [],
   "source": [
    "train.fillna(-999, inplace=True)\n",
    "test.fillna(-999, inplace=True)"
   ]
  },
  {
   "cell_type": "code",
   "execution_count": 15,
   "metadata": {},
   "outputs": [
    {
     "data": {
      "text/plain": [
       "Index(['portfolio_id', 'desk_id', 'office_id', 'pf_category', 'start_date',\n",
       "       'sold', 'country_code', 'euribor_rate', 'currency', 'libor_rate',\n",
       "       'bought', 'creation_date', 'indicator_code', 'sell_date', 'type',\n",
       "       'hedge_value', 'status', 'return', 'start_year', 'start_month',\n",
       "       'create_year', 'create_month', 'create_date', 'sell_year',\n",
       "       'sell_month'],\n",
       "      dtype='object')"
      ]
     },
     "execution_count": 15,
     "metadata": {},
     "output_type": "execute_result"
    }
   ],
   "source": [
    "train.columns"
   ]
  },
  {
   "cell_type": "code",
   "execution_count": 16,
   "metadata": {
    "collapsed": true
   },
   "outputs": [],
   "source": [
    "cols = list(train.columns)\n",
    "cols.remove('return')\n",
    "cols.remove('portfolio_id')"
   ]
  },
  {
   "cell_type": "code",
   "execution_count": null,
   "metadata": {
    "collapsed": true
   },
   "outputs": [],
   "source": []
  },
  {
   "cell_type": "code",
   "execution_count": 19,
   "metadata": {},
   "outputs": [
    {
     "name": "stderr",
     "output_type": "stream",
     "text": [
      "100%|██████████| 23/23 [00:00<00:00, 9014.11it/s]\n"
     ]
    }
   ],
   "source": [
    "for col in tqdm(cols):\n",
    "    if train[col].dtype == 'object':\n",
    "        train[col] = train[col].apply(str)\n",
    "        test[col] = test[col].apply(str)\n",
    "\n",
    "        le = LabelEncoder()\n",
    "        train_vals = list(train[col].unique())\n",
    "        test_vals = list(test[col].unique())\n",
    "        le.fit(train_vals + test_vals)\n",
    "        train[col] = le.transform(train[col])\n",
    "        test[col] = le.transform(test[col])"
   ]
  },
  {
   "cell_type": "markdown",
   "metadata": {},
   "source": [
    "#### Creating Train and Test Files"
   ]
  },
  {
   "cell_type": "code",
   "execution_count": 21,
   "metadata": {},
   "outputs": [],
   "source": [
    "import lightgbm as lgb\n",
    "import xgboost as xgb"
   ]
  },
  {
   "cell_type": "code",
   "execution_count": 22,
   "metadata": {
    "collapsed": true
   },
   "outputs": [],
   "source": [
    "X = train.drop(['return', 'portfolio_id'], axis=1)\n",
    "y = train['return'].values"
   ]
  },
  {
   "cell_type": "code",
   "execution_count": 23,
   "metadata": {
    "collapsed": true
   },
   "outputs": [],
   "source": [
    "X_test = test.drop(['portfolio_id'], axis=1)\n",
    "ids = test.portfolio_id"
   ]
  },
  {
   "cell_type": "code",
   "execution_count": 24,
   "metadata": {
    "collapsed": true
   },
   "outputs": [],
   "source": [
    "from sklearn.model_selection import train_test_split\n",
    "X_train, X_valid, y_train, y_valid = train_test_split(X, y, test_size=0.15, random_state=47)"
   ]
  },
  {
   "cell_type": "code",
   "execution_count": 44,
   "metadata": {
    "collapsed": true
   },
   "outputs": [],
   "source": [
    "d_train = lgb.Dataset(data=X_train, label=y_train)\n",
    "d_valid = lgb.Dataset(data=X_valid, label=y_valid)"
   ]
  },
  {
   "cell_type": "code",
   "execution_count": 45,
   "metadata": {},
   "outputs": [
    {
     "data": {
      "text/plain": [
       "<lightgbm.basic.Dataset at 0x7ff05ba0d2b0>"
      ]
     },
     "execution_count": 45,
     "metadata": {},
     "output_type": "execute_result"
    }
   ],
   "source": [
    "d_train"
   ]
  },
  {
   "cell_type": "markdown",
   "metadata": {},
   "source": [
    "#### Training the model"
   ]
  },
  {
   "cell_type": "code",
   "execution_count": 46,
   "metadata": {
    "collapsed": true
   },
   "outputs": [],
   "source": [
    "from sklearn.metrics import r2_score\n",
    "def r2_score_lgb(pred, dtrain):\n",
    "    y = dtrain.get_label()\n",
    "    score = r2_score(y_true=y, y_pred=pred)\n",
    "    return 'r2-score', score, True"
   ]
  },
  {
   "cell_type": "code",
   "execution_count": 47,
   "metadata": {
    "collapsed": true
   },
   "outputs": [],
   "source": [
    "watchlist = [d_train, d_valid]"
   ]
  },
  {
   "cell_type": "code",
   "execution_count": 52,
   "metadata": {
    "collapsed": true
   },
   "outputs": [],
   "source": [
    "params = {\n",
    "    'learning_rate': 0.001,\n",
    "    'application': 'regression_l1',\n",
    "    'max_depth': 25,\n",
    "    'num_leaves': 2**10,\n",
    "    'verbosity':0,\n",
    "    'boosting': 'gbdt',\n",
    "    'max_bin':256,\n",
    "    'bagging_fraction': 0.90,\n",
    "    'bagging_freq': 1,\n",
    "    'bagging_seed':1,\n",
    "    'feature_fraction':0.9,\n",
    "    'feature_fraction_seed':1\n",
    "}"
   ]
  },
  {
   "cell_type": "code",
   "execution_count": 53,
   "metadata": {
    "scrolled": true
   },
   "outputs": [
    {
     "name": "stdout",
     "output_type": "stream",
     "text": [
      "Training until validation scores don't improve for 50 rounds.\n",
      "[10]\ttraining's r2-score: 0.0396094\tvalid_1's r2-score: 0.0481417\n",
      "[20]\ttraining's r2-score: 0.0780759\tvalid_1's r2-score: 0.0952803\n",
      "[30]\ttraining's r2-score: 0.115416\tvalid_1's r2-score: 0.14104\n",
      "[40]\ttraining's r2-score: 0.151675\tvalid_1's r2-score: 0.185464\n",
      "[50]\ttraining's r2-score: 0.186798\tvalid_1's r2-score: 0.228464\n",
      "[60]\ttraining's r2-score: 0.220925\tvalid_1's r2-score: 0.270193\n",
      "[70]\ttraining's r2-score: 0.254002\tvalid_1's r2-score: 0.310628\n",
      "[80]\ttraining's r2-score: 0.286029\tvalid_1's r2-score: 0.349778\n",
      "[90]\ttraining's r2-score: 0.317038\tvalid_1's r2-score: 0.387608\n",
      "[100]\ttraining's r2-score: 0.347042\tvalid_1's r2-score: 0.42427\n",
      "[110]\ttraining's r2-score: 0.376034\tvalid_1's r2-score: 0.459687\n",
      "[120]\ttraining's r2-score: 0.40407\tvalid_1's r2-score: 0.493849\n",
      "[130]\ttraining's r2-score: 0.431084\tvalid_1's r2-score: 0.526747\n",
      "[140]\ttraining's r2-score: 0.457088\tvalid_1's r2-score: 0.558362\n",
      "[150]\ttraining's r2-score: 0.482067\tvalid_1's r2-score: 0.58865\n",
      "[160]\ttraining's r2-score: 0.505989\tvalid_1's r2-score: 0.617608\n",
      "[170]\ttraining's r2-score: 0.528918\tvalid_1's r2-score: 0.645358\n",
      "[180]\ttraining's r2-score: 0.550859\tvalid_1's r2-score: 0.671849\n",
      "[190]\ttraining's r2-score: 0.571797\tvalid_1's r2-score: 0.69709\n",
      "[200]\ttraining's r2-score: 0.591664\tvalid_1's r2-score: 0.721141\n",
      "[210]\ttraining's r2-score: 0.610461\tvalid_1's r2-score: 0.743896\n",
      "[220]\ttraining's r2-score: 0.628278\tvalid_1's r2-score: 0.765439\n",
      "[230]\ttraining's r2-score: 0.644975\tvalid_1's r2-score: 0.785714\n",
      "[240]\ttraining's r2-score: 0.660633\tvalid_1's r2-score: 0.804754\n",
      "[250]\ttraining's r2-score: 0.675236\tvalid_1's r2-score: 0.822501\n",
      "[260]\ttraining's r2-score: 0.688723\tvalid_1's r2-score: 0.838845\n",
      "[270]\ttraining's r2-score: 0.701216\tvalid_1's r2-score: 0.853891\n",
      "[280]\ttraining's r2-score: 0.712672\tvalid_1's r2-score: 0.86771\n",
      "[290]\ttraining's r2-score: 0.723043\tvalid_1's r2-score: 0.880162\n",
      "[300]\ttraining's r2-score: 0.732385\tvalid_1's r2-score: 0.891451\n",
      "[310]\ttraining's r2-score: 0.74059\tvalid_1's r2-score: 0.901272\n",
      "[320]\ttraining's r2-score: 0.7477\tvalid_1's r2-score: 0.90973\n",
      "[330]\ttraining's r2-score: 0.7537\tvalid_1's r2-score: 0.916826\n",
      "[340]\ttraining's r2-score: 0.758622\tvalid_1's r2-score: 0.922593\n",
      "[350]\ttraining's r2-score: 0.762553\tvalid_1's r2-score: 0.927181\n",
      "[360]\ttraining's r2-score: 0.765637\tvalid_1's r2-score: 0.930787\n",
      "[370]\ttraining's r2-score: 0.767918\tvalid_1's r2-score: 0.933526\n",
      "[380]\ttraining's r2-score: 0.769762\tvalid_1's r2-score: 0.935783\n",
      "[390]\ttraining's r2-score: 0.771377\tvalid_1's r2-score: 0.93771\n",
      "[400]\ttraining's r2-score: 0.772841\tvalid_1's r2-score: 0.939518\n",
      "[410]\ttraining's r2-score: 0.774192\tvalid_1's r2-score: 0.941177\n",
      "[420]\ttraining's r2-score: 0.775491\tvalid_1's r2-score: 0.942779\n",
      "[430]\ttraining's r2-score: 0.776738\tvalid_1's r2-score: 0.94427\n",
      "[440]\ttraining's r2-score: 0.777853\tvalid_1's r2-score: 0.945655\n",
      "[450]\ttraining's r2-score: 0.778949\tvalid_1's r2-score: 0.946948\n",
      "[460]\ttraining's r2-score: 0.779956\tvalid_1's r2-score: 0.948167\n",
      "[470]\ttraining's r2-score: 0.780912\tvalid_1's r2-score: 0.949306\n",
      "[480]\ttraining's r2-score: 0.781791\tvalid_1's r2-score: 0.950406\n",
      "[490]\ttraining's r2-score: 0.782624\tvalid_1's r2-score: 0.951392\n",
      "[500]\ttraining's r2-score: 0.783402\tvalid_1's r2-score: 0.952352\n",
      "[510]\ttraining's r2-score: 0.784138\tvalid_1's r2-score: 0.953182\n",
      "[520]\ttraining's r2-score: 0.784856\tvalid_1's r2-score: 0.953993\n",
      "[530]\ttraining's r2-score: 0.78549\tvalid_1's r2-score: 0.954777\n",
      "[540]\ttraining's r2-score: 0.786116\tvalid_1's r2-score: 0.955531\n",
      "[550]\ttraining's r2-score: 0.786734\tvalid_1's r2-score: 0.956249\n",
      "[560]\ttraining's r2-score: 0.787291\tvalid_1's r2-score: 0.956894\n",
      "[570]\ttraining's r2-score: 0.787853\tvalid_1's r2-score: 0.957477\n",
      "[580]\ttraining's r2-score: 0.788366\tvalid_1's r2-score: 0.958094\n",
      "[590]\ttraining's r2-score: 0.78885\tvalid_1's r2-score: 0.958679\n",
      "[600]\ttraining's r2-score: 0.789301\tvalid_1's r2-score: 0.959213\n",
      "[610]\ttraining's r2-score: 0.789711\tvalid_1's r2-score: 0.959723\n",
      "[620]\ttraining's r2-score: 0.790112\tvalid_1's r2-score: 0.960167\n",
      "[630]\ttraining's r2-score: 0.79047\tvalid_1's r2-score: 0.960641\n",
      "[640]\ttraining's r2-score: 0.790848\tvalid_1's r2-score: 0.961016\n",
      "[650]\ttraining's r2-score: 0.791164\tvalid_1's r2-score: 0.961351\n",
      "[660]\ttraining's r2-score: 0.791511\tvalid_1's r2-score: 0.961695\n",
      "[670]\ttraining's r2-score: 0.791806\tvalid_1's r2-score: 0.962011\n",
      "[680]\ttraining's r2-score: 0.792102\tvalid_1's r2-score: 0.962291\n",
      "[690]\ttraining's r2-score: 0.792393\tvalid_1's r2-score: 0.962594\n",
      "[700]\ttraining's r2-score: 0.792622\tvalid_1's r2-score: 0.962838\n",
      "[710]\ttraining's r2-score: 0.792876\tvalid_1's r2-score: 0.963092\n",
      "[720]\ttraining's r2-score: 0.793087\tvalid_1's r2-score: 0.963295\n",
      "[730]\ttraining's r2-score: 0.793312\tvalid_1's r2-score: 0.963531\n",
      "[740]\ttraining's r2-score: 0.793502\tvalid_1's r2-score: 0.963713\n",
      "[750]\ttraining's r2-score: 0.793703\tvalid_1's r2-score: 0.963931\n",
      "[760]\ttraining's r2-score: 0.793898\tvalid_1's r2-score: 0.964173\n",
      "[770]\ttraining's r2-score: 0.794057\tvalid_1's r2-score: 0.964328\n",
      "[780]\ttraining's r2-score: 0.79426\tvalid_1's r2-score: 0.964512\n",
      "[790]\ttraining's r2-score: 0.794423\tvalid_1's r2-score: 0.964655\n",
      "[800]\ttraining's r2-score: 0.794597\tvalid_1's r2-score: 0.96482\n",
      "[810]\ttraining's r2-score: 0.794749\tvalid_1's r2-score: 0.964926\n",
      "[820]\ttraining's r2-score: 0.794926\tvalid_1's r2-score: 0.965084\n",
      "[830]\ttraining's r2-score: 0.795082\tvalid_1's r2-score: 0.965245\n",
      "[840]\ttraining's r2-score: 0.795227\tvalid_1's r2-score: 0.965334\n",
      "[850]\ttraining's r2-score: 0.795349\tvalid_1's r2-score: 0.96546\n",
      "[860]\ttraining's r2-score: 0.795483\tvalid_1's r2-score: 0.965565\n",
      "[870]\ttraining's r2-score: 0.7956\tvalid_1's r2-score: 0.965689\n",
      "[880]\ttraining's r2-score: 0.795724\tvalid_1's r2-score: 0.965784\n",
      "[890]\ttraining's r2-score: 0.795836\tvalid_1's r2-score: 0.965903\n",
      "[900]\ttraining's r2-score: 0.795943\tvalid_1's r2-score: 0.966003\n",
      "[910]\ttraining's r2-score: 0.796064\tvalid_1's r2-score: 0.966096\n",
      "[920]\ttraining's r2-score: 0.796161\tvalid_1's r2-score: 0.96619\n",
      "[930]\ttraining's r2-score: 0.796273\tvalid_1's r2-score: 0.966292\n",
      "[940]\ttraining's r2-score: 0.796389\tvalid_1's r2-score: 0.966422\n",
      "[950]\ttraining's r2-score: 0.796507\tvalid_1's r2-score: 0.966534\n",
      "[960]\ttraining's r2-score: 0.796627\tvalid_1's r2-score: 0.966632\n",
      "[970]\ttraining's r2-score: 0.796733\tvalid_1's r2-score: 0.966689\n",
      "[980]\ttraining's r2-score: 0.796823\tvalid_1's r2-score: 0.966737\n",
      "[990]\ttraining's r2-score: 0.796932\tvalid_1's r2-score: 0.966794\n",
      "[1000]\ttraining's r2-score: 0.797023\tvalid_1's r2-score: 0.966944\n",
      "[1010]\ttraining's r2-score: 0.797126\tvalid_1's r2-score: 0.967025\n",
      "[1020]\ttraining's r2-score: 0.797212\tvalid_1's r2-score: 0.967089\n",
      "[1030]\ttraining's r2-score: 0.797297\tvalid_1's r2-score: 0.967177\n",
      "[1040]\ttraining's r2-score: 0.797357\tvalid_1's r2-score: 0.967202\n",
      "[1050]\ttraining's r2-score: 0.797443\tvalid_1's r2-score: 0.967252\n",
      "[1060]\ttraining's r2-score: 0.797533\tvalid_1's r2-score: 0.967334\n",
      "[1070]\ttraining's r2-score: 0.797617\tvalid_1's r2-score: 0.967379\n",
      "[1080]\ttraining's r2-score: 0.797701\tvalid_1's r2-score: 0.967441\n",
      "[1090]\ttraining's r2-score: 0.797788\tvalid_1's r2-score: 0.967503\n",
      "[1100]\ttraining's r2-score: 0.797863\tvalid_1's r2-score: 0.967539\n",
      "[1110]\ttraining's r2-score: 0.797937\tvalid_1's r2-score: 0.967588\n",
      "[1120]\ttraining's r2-score: 0.798022\tvalid_1's r2-score: 0.967635\n",
      "[1130]\ttraining's r2-score: 0.79808\tvalid_1's r2-score: 0.967678\n",
      "[1140]\ttraining's r2-score: 0.798128\tvalid_1's r2-score: 0.967725\n",
      "[1150]\ttraining's r2-score: 0.798187\tvalid_1's r2-score: 0.967778\n",
      "[1160]\ttraining's r2-score: 0.798252\tvalid_1's r2-score: 0.967859\n",
      "[1170]\ttraining's r2-score: 0.798307\tvalid_1's r2-score: 0.967895\n",
      "[1180]\ttraining's r2-score: 0.79836\tvalid_1's r2-score: 0.967934\n",
      "[1190]\ttraining's r2-score: 0.798418\tvalid_1's r2-score: 0.967984\n",
      "[1200]\ttraining's r2-score: 0.798468\tvalid_1's r2-score: 0.967998\n",
      "[1210]\ttraining's r2-score: 0.798524\tvalid_1's r2-score: 0.96803\n",
      "[1220]\ttraining's r2-score: 0.798586\tvalid_1's r2-score: 0.968052\n",
      "[1230]\ttraining's r2-score: 0.798637\tvalid_1's r2-score: 0.968105\n",
      "[1240]\ttraining's r2-score: 0.798686\tvalid_1's r2-score: 0.968143\n",
      "[1250]\ttraining's r2-score: 0.798749\tvalid_1's r2-score: 0.968191\n",
      "[1260]\ttraining's r2-score: 0.798793\tvalid_1's r2-score: 0.968186\n",
      "[1270]\ttraining's r2-score: 0.798843\tvalid_1's r2-score: 0.968209\n"
     ]
    },
    {
     "name": "stdout",
     "output_type": "stream",
     "text": [
      "[1280]\ttraining's r2-score: 0.798909\tvalid_1's r2-score: 0.968228\n",
      "[1290]\ttraining's r2-score: 0.798961\tvalid_1's r2-score: 0.968243\n",
      "[1300]\ttraining's r2-score: 0.799008\tvalid_1's r2-score: 0.968261\n",
      "[1310]\ttraining's r2-score: 0.799064\tvalid_1's r2-score: 0.968305\n",
      "[1320]\ttraining's r2-score: 0.799115\tvalid_1's r2-score: 0.968363\n",
      "[1330]\ttraining's r2-score: 0.799151\tvalid_1's r2-score: 0.96837\n",
      "[1340]\ttraining's r2-score: 0.799209\tvalid_1's r2-score: 0.968431\n",
      "[1350]\ttraining's r2-score: 0.799252\tvalid_1's r2-score: 0.968443\n",
      "[1360]\ttraining's r2-score: 0.799302\tvalid_1's r2-score: 0.9685\n",
      "[1370]\ttraining's r2-score: 0.79935\tvalid_1's r2-score: 0.968512\n",
      "[1380]\ttraining's r2-score: 0.799412\tvalid_1's r2-score: 0.968546\n",
      "[1390]\ttraining's r2-score: 0.799442\tvalid_1's r2-score: 0.968552\n",
      "[1400]\ttraining's r2-score: 0.799471\tvalid_1's r2-score: 0.968576\n",
      "[1410]\ttraining's r2-score: 0.799501\tvalid_1's r2-score: 0.968577\n",
      "[1420]\ttraining's r2-score: 0.79955\tvalid_1's r2-score: 0.968579\n",
      "[1430]\ttraining's r2-score: 0.799587\tvalid_1's r2-score: 0.968592\n",
      "[1440]\ttraining's r2-score: 0.799594\tvalid_1's r2-score: 0.968629\n",
      "[1450]\ttraining's r2-score: 0.799647\tvalid_1's r2-score: 0.968668\n",
      "[1460]\ttraining's r2-score: 0.799707\tvalid_1's r2-score: 0.968687\n",
      "[1470]\ttraining's r2-score: 0.799749\tvalid_1's r2-score: 0.968739\n",
      "[1480]\ttraining's r2-score: 0.799782\tvalid_1's r2-score: 0.968776\n",
      "[1490]\ttraining's r2-score: 0.799802\tvalid_1's r2-score: 0.968765\n",
      "[1500]\ttraining's r2-score: 0.799832\tvalid_1's r2-score: 0.968802\n",
      "[1510]\ttraining's r2-score: 0.799866\tvalid_1's r2-score: 0.968783\n",
      "[1520]\ttraining's r2-score: 0.799931\tvalid_1's r2-score: 0.968813\n",
      "[1530]\ttraining's r2-score: 0.799976\tvalid_1's r2-score: 0.968831\n",
      "[1540]\ttraining's r2-score: 0.800018\tvalid_1's r2-score: 0.968818\n",
      "[1550]\ttraining's r2-score: 0.800069\tvalid_1's r2-score: 0.968871\n",
      "[1560]\ttraining's r2-score: 0.800121\tvalid_1's r2-score: 0.968912\n",
      "[1570]\ttraining's r2-score: 0.800145\tvalid_1's r2-score: 0.968925\n",
      "[1580]\ttraining's r2-score: 0.80017\tvalid_1's r2-score: 0.968918\n",
      "[1590]\ttraining's r2-score: 0.800214\tvalid_1's r2-score: 0.968953\n",
      "[1600]\ttraining's r2-score: 0.800251\tvalid_1's r2-score: 0.968946\n",
      "[1610]\ttraining's r2-score: 0.800294\tvalid_1's r2-score: 0.968953\n",
      "[1620]\ttraining's r2-score: 0.800326\tvalid_1's r2-score: 0.96898\n",
      "[1630]\ttraining's r2-score: 0.800388\tvalid_1's r2-score: 0.969018\n",
      "[1640]\ttraining's r2-score: 0.800409\tvalid_1's r2-score: 0.969052\n",
      "[1650]\ttraining's r2-score: 0.800456\tvalid_1's r2-score: 0.969097\n",
      "[1660]\ttraining's r2-score: 0.800489\tvalid_1's r2-score: 0.969129\n",
      "[1670]\ttraining's r2-score: 0.800525\tvalid_1's r2-score: 0.969138\n",
      "[1680]\ttraining's r2-score: 0.800564\tvalid_1's r2-score: 0.969176\n",
      "[1690]\ttraining's r2-score: 0.800608\tvalid_1's r2-score: 0.969228\n",
      "[1700]\ttraining's r2-score: 0.800647\tvalid_1's r2-score: 0.969232\n",
      "[1710]\ttraining's r2-score: 0.800673\tvalid_1's r2-score: 0.969224\n",
      "[1720]\ttraining's r2-score: 0.800718\tvalid_1's r2-score: 0.969239\n",
      "[1730]\ttraining's r2-score: 0.800769\tvalid_1's r2-score: 0.969255\n",
      "[1740]\ttraining's r2-score: 0.800824\tvalid_1's r2-score: 0.969254\n",
      "[1750]\ttraining's r2-score: 0.800857\tvalid_1's r2-score: 0.969262\n",
      "[1760]\ttraining's r2-score: 0.80093\tvalid_1's r2-score: 0.96931\n",
      "[1770]\ttraining's r2-score: 0.800957\tvalid_1's r2-score: 0.969338\n",
      "[1780]\ttraining's r2-score: 0.801006\tvalid_1's r2-score: 0.969355\n",
      "[1790]\ttraining's r2-score: 0.80105\tvalid_1's r2-score: 0.969337\n",
      "[1800]\ttraining's r2-score: 0.801104\tvalid_1's r2-score: 0.969335\n",
      "[1810]\ttraining's r2-score: 0.801134\tvalid_1's r2-score: 0.969376\n",
      "[1820]\ttraining's r2-score: 0.801171\tvalid_1's r2-score: 0.969383\n",
      "[1830]\ttraining's r2-score: 0.801202\tvalid_1's r2-score: 0.969398\n",
      "[1840]\ttraining's r2-score: 0.801255\tvalid_1's r2-score: 0.969394\n",
      "[1850]\ttraining's r2-score: 0.801289\tvalid_1's r2-score: 0.969409\n",
      "[1860]\ttraining's r2-score: 0.801326\tvalid_1's r2-score: 0.969411\n",
      "[1870]\ttraining's r2-score: 0.801351\tvalid_1's r2-score: 0.96944\n",
      "[1880]\ttraining's r2-score: 0.801395\tvalid_1's r2-score: 0.96946\n",
      "[1890]\ttraining's r2-score: 0.801437\tvalid_1's r2-score: 0.969444\n",
      "[1900]\ttraining's r2-score: 0.801461\tvalid_1's r2-score: 0.969467\n",
      "[1910]\ttraining's r2-score: 0.801522\tvalid_1's r2-score: 0.969447\n",
      "[1920]\ttraining's r2-score: 0.801568\tvalid_1's r2-score: 0.969491\n",
      "[1930]\ttraining's r2-score: 0.80162\tvalid_1's r2-score: 0.969513\n",
      "[1940]\ttraining's r2-score: 0.801651\tvalid_1's r2-score: 0.969542\n",
      "[1950]\ttraining's r2-score: 0.801681\tvalid_1's r2-score: 0.969565\n",
      "[1960]\ttraining's r2-score: 0.801726\tvalid_1's r2-score: 0.969572\n",
      "[1970]\ttraining's r2-score: 0.801768\tvalid_1's r2-score: 0.969636\n",
      "[1980]\ttraining's r2-score: 0.80181\tvalid_1's r2-score: 0.969635\n",
      "[1990]\ttraining's r2-score: 0.801837\tvalid_1's r2-score: 0.969654\n",
      "[2000]\ttraining's r2-score: 0.801867\tvalid_1's r2-score: 0.969671\n",
      "[2010]\ttraining's r2-score: 0.801919\tvalid_1's r2-score: 0.969714\n",
      "[2020]\ttraining's r2-score: 0.801954\tvalid_1's r2-score: 0.96973\n",
      "[2030]\ttraining's r2-score: 0.801982\tvalid_1's r2-score: 0.96973\n",
      "[2040]\ttraining's r2-score: 0.802009\tvalid_1's r2-score: 0.969753\n",
      "[2050]\ttraining's r2-score: 0.802056\tvalid_1's r2-score: 0.969765\n",
      "[2060]\ttraining's r2-score: 0.802082\tvalid_1's r2-score: 0.969801\n",
      "[2070]\ttraining's r2-score: 0.80211\tvalid_1's r2-score: 0.969808\n",
      "[2080]\ttraining's r2-score: 0.802141\tvalid_1's r2-score: 0.969846\n",
      "[2090]\ttraining's r2-score: 0.802164\tvalid_1's r2-score: 0.969827\n",
      "[2100]\ttraining's r2-score: 0.802204\tvalid_1's r2-score: 0.969865\n",
      "[2110]\ttraining's r2-score: 0.802234\tvalid_1's r2-score: 0.969877\n",
      "[2120]\ttraining's r2-score: 0.802263\tvalid_1's r2-score: 0.969902\n",
      "[2130]\ttraining's r2-score: 0.802294\tvalid_1's r2-score: 0.969897\n",
      "[2140]\ttraining's r2-score: 0.802323\tvalid_1's r2-score: 0.969868\n",
      "[2150]\ttraining's r2-score: 0.802362\tvalid_1's r2-score: 0.969902\n",
      "[2160]\ttraining's r2-score: 0.802406\tvalid_1's r2-score: 0.969907\n",
      "[2170]\ttraining's r2-score: 0.802441\tvalid_1's r2-score: 0.969935\n",
      "[2180]\ttraining's r2-score: 0.802473\tvalid_1's r2-score: 0.969926\n",
      "[2190]\ttraining's r2-score: 0.80252\tvalid_1's r2-score: 0.969966\n",
      "[2200]\ttraining's r2-score: 0.802545\tvalid_1's r2-score: 0.969959\n",
      "[2210]\ttraining's r2-score: 0.802583\tvalid_1's r2-score: 0.969944\n",
      "[2220]\ttraining's r2-score: 0.802617\tvalid_1's r2-score: 0.969955\n",
      "[2230]\ttraining's r2-score: 0.802637\tvalid_1's r2-score: 0.969958\n",
      "[2240]\ttraining's r2-score: 0.802677\tvalid_1's r2-score: 0.969972\n",
      "[2250]\ttraining's r2-score: 0.80271\tvalid_1's r2-score: 0.969962\n",
      "[2260]\ttraining's r2-score: 0.802745\tvalid_1's r2-score: 0.96998\n",
      "[2270]\ttraining's r2-score: 0.802783\tvalid_1's r2-score: 0.969987\n",
      "[2280]\ttraining's r2-score: 0.802815\tvalid_1's r2-score: 0.970001\n",
      "[2290]\ttraining's r2-score: 0.802858\tvalid_1's r2-score: 0.970012\n",
      "[2300]\ttraining's r2-score: 0.80288\tvalid_1's r2-score: 0.970011\n",
      "[2310]\ttraining's r2-score: 0.802926\tvalid_1's r2-score: 0.970049\n",
      "[2320]\ttraining's r2-score: 0.802955\tvalid_1's r2-score: 0.970059\n",
      "[2330]\ttraining's r2-score: 0.802977\tvalid_1's r2-score: 0.970042\n",
      "[2340]\ttraining's r2-score: 0.80302\tvalid_1's r2-score: 0.970069\n",
      "[2350]\ttraining's r2-score: 0.803054\tvalid_1's r2-score: 0.970058\n",
      "[2360]\ttraining's r2-score: 0.803076\tvalid_1's r2-score: 0.970107\n",
      "[2370]\ttraining's r2-score: 0.80311\tvalid_1's r2-score: 0.970135\n",
      "[2380]\ttraining's r2-score: 0.803156\tvalid_1's r2-score: 0.970141\n",
      "[2390]\ttraining's r2-score: 0.80318\tvalid_1's r2-score: 0.970192\n",
      "[2400]\ttraining's r2-score: 0.803205\tvalid_1's r2-score: 0.970184\n",
      "[2410]\ttraining's r2-score: 0.803215\tvalid_1's r2-score: 0.970191\n",
      "[2420]\ttraining's r2-score: 0.803249\tvalid_1's r2-score: 0.970195\n",
      "[2430]\ttraining's r2-score: 0.80327\tvalid_1's r2-score: 0.970214\n",
      "[2440]\ttraining's r2-score: 0.803295\tvalid_1's r2-score: 0.970236\n",
      "[2450]\ttraining's r2-score: 0.803332\tvalid_1's r2-score: 0.970276\n",
      "[2460]\ttraining's r2-score: 0.803362\tvalid_1's r2-score: 0.970318\n",
      "[2470]\ttraining's r2-score: 0.803384\tvalid_1's r2-score: 0.970325\n",
      "[2480]\ttraining's r2-score: 0.80342\tvalid_1's r2-score: 0.970347\n",
      "[2490]\ttraining's r2-score: 0.803445\tvalid_1's r2-score: 0.970354\n",
      "[2500]\ttraining's r2-score: 0.803492\tvalid_1's r2-score: 0.970386\n",
      "[2510]\ttraining's r2-score: 0.803528\tvalid_1's r2-score: 0.970409\n",
      "[2520]\ttraining's r2-score: 0.803552\tvalid_1's r2-score: 0.970473\n",
      "[2530]\ttraining's r2-score: 0.803583\tvalid_1's r2-score: 0.970493\n"
     ]
    },
    {
     "name": "stdout",
     "output_type": "stream",
     "text": [
      "[2540]\ttraining's r2-score: 0.803627\tvalid_1's r2-score: 0.970491\n",
      "[2550]\ttraining's r2-score: 0.803647\tvalid_1's r2-score: 0.970487\n",
      "[2560]\ttraining's r2-score: 0.803686\tvalid_1's r2-score: 0.970475\n",
      "[2570]\ttraining's r2-score: 0.80371\tvalid_1's r2-score: 0.970481\n",
      "[2580]\ttraining's r2-score: 0.803753\tvalid_1's r2-score: 0.970472\n",
      "Early stopping, best iteration is:\n",
      "[2536]\ttraining's r2-score: 0.803614\tvalid_1's r2-score: 0.970511\n"
     ]
    }
   ],
   "source": [
    "model = lgb.train(params, train_set=d_train, num_boost_round=5000, feval=r2_score_lgb, valid_sets=watchlist, early_stopping_rounds=50, verbose_eval=10)"
   ]
  },
  {
   "cell_type": "markdown",
   "metadata": {},
   "source": [
    "#### Predict Labels"
   ]
  },
  {
   "cell_type": "code",
   "execution_count": 54,
   "metadata": {
    "collapsed": true
   },
   "outputs": [],
   "source": [
    "p_test = model.predict(X_test)"
   ]
  },
  {
   "cell_type": "markdown",
   "metadata": {},
   "source": [
    "#### Creating submission files"
   ]
  },
  {
   "cell_type": "code",
   "execution_count": 55,
   "metadata": {
    "collapsed": true
   },
   "outputs": [],
   "source": [
    "subm = pd.DataFrame()\n",
    "subm['portfolio_id'] = ids\n",
    "subm['return'] = p_test"
   ]
  },
  {
   "cell_type": "markdown",
   "metadata": {},
   "source": [
    "#### Saving submission file"
   ]
  },
  {
   "cell_type": "code",
   "execution_count": 56,
   "metadata": {
    "collapsed": true
   },
   "outputs": [],
   "source": [
    "subm.to_csv('submit.csv', index=False)"
   ]
  },
  {
   "cell_type": "code",
   "execution_count": null,
   "metadata": {
    "collapsed": true
   },
   "outputs": [],
   "source": []
  }
 ],
 "metadata": {
  "kernelspec": {
   "display_name": "Python 3",
   "language": "python",
   "name": "python3"
  },
  "language_info": {
   "codemirror_mode": {
    "name": "ipython",
    "version": 3
   },
   "file_extension": ".py",
   "mimetype": "text/x-python",
   "name": "python",
   "nbconvert_exporter": "python",
   "pygments_lexer": "ipython3",
   "version": "3.6.1"
  }
 },
 "nbformat": 4,
 "nbformat_minor": 2
}
