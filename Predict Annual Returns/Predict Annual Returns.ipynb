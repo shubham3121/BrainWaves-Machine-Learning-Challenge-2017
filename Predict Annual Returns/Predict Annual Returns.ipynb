{
 "cells": [
  {
   "cell_type": "code",
   "execution_count": 1,
   "metadata": {
    "collapsed": true
   },
   "outputs": [],
   "source": [
    "import numpy as np\n",
    "import pandas as pd\n",
    "from tqdm import tqdm\n",
    "from sklearn.preprocessing import LabelEncoder\n",
    "from sklearn.model_selection import KFold\n",
    "from sklearn.model_selection import train_test_split"
   ]
  },
  {
   "cell_type": "markdown",
   "metadata": {},
   "source": [
    "#### Importing Data"
   ]
  },
  {
   "cell_type": "code",
   "execution_count": 2,
   "metadata": {
    "collapsed": true
   },
   "outputs": [],
   "source": [
    "train = pd.read_csv('train.csv')\n",
    "test = pd.read_csv('test.csv')"
   ]
  },
  {
   "cell_type": "markdown",
   "metadata": {},
   "source": [
    "#### Visualizing Dataset"
   ]
  },
  {
   "cell_type": "code",
   "execution_count": 3,
   "metadata": {},
   "outputs": [
    {
     "data": {
      "text/html": [
       "<div>\n",
       "<table border=\"1\" class=\"dataframe\">\n",
       "  <thead>\n",
       "    <tr style=\"text-align: right;\">\n",
       "      <th></th>\n",
       "      <th>portfolio_id</th>\n",
       "      <th>desk_id</th>\n",
       "      <th>office_id</th>\n",
       "      <th>pf_category</th>\n",
       "      <th>start_date</th>\n",
       "      <th>sold</th>\n",
       "      <th>country_code</th>\n",
       "      <th>euribor_rate</th>\n",
       "      <th>currency</th>\n",
       "      <th>libor_rate</th>\n",
       "      <th>bought</th>\n",
       "      <th>creation_date</th>\n",
       "      <th>indicator_code</th>\n",
       "      <th>sell_date</th>\n",
       "      <th>type</th>\n",
       "      <th>hedge_value</th>\n",
       "      <th>status</th>\n",
       "      <th>return</th>\n",
       "    </tr>\n",
       "  </thead>\n",
       "  <tbody>\n",
       "    <tr>\n",
       "      <th>0</th>\n",
       "      <td>PF00001002</td>\n",
       "      <td>DSK00001001</td>\n",
       "      <td>OFF00001002</td>\n",
       "      <td>B</td>\n",
       "      <td>20040720</td>\n",
       "      <td>110000000.0</td>\n",
       "      <td>T</td>\n",
       "      <td>0.02074</td>\n",
       "      <td>USD</td>\n",
       "      <td>2.332216</td>\n",
       "      <td>1.098097e+08</td>\n",
       "      <td>20040720</td>\n",
       "      <td>NaN</td>\n",
       "      <td>20040812</td>\n",
       "      <td>B</td>\n",
       "      <td>NaN</td>\n",
       "      <td>NaN</td>\n",
       "      <td>0.02496</td>\n",
       "    </tr>\n",
       "    <tr>\n",
       "      <th>1</th>\n",
       "      <td>PF00001003</td>\n",
       "      <td>DSK00001002</td>\n",
       "      <td>OFF00001001</td>\n",
       "      <td>A</td>\n",
       "      <td>20040709</td>\n",
       "      <td>176671000.0</td>\n",
       "      <td>N</td>\n",
       "      <td>0.02074</td>\n",
       "      <td>GBP</td>\n",
       "      <td>5.269617</td>\n",
       "      <td>1.760084e+08</td>\n",
       "      <td>20040723</td>\n",
       "      <td>NaN</td>\n",
       "      <td>20040812</td>\n",
       "      <td>C</td>\n",
       "      <td>NaN</td>\n",
       "      <td>NaN</td>\n",
       "      <td>0.05496</td>\n",
       "    </tr>\n",
       "    <tr>\n",
       "      <th>2</th>\n",
       "      <td>PF00001005</td>\n",
       "      <td>DSK00001004</td>\n",
       "      <td>OFF00001001</td>\n",
       "      <td>A</td>\n",
       "      <td>20040723</td>\n",
       "      <td>56474000.0</td>\n",
       "      <td>T</td>\n",
       "      <td>0.02074</td>\n",
       "      <td>USD</td>\n",
       "      <td>2.332216</td>\n",
       "      <td>5.637953e+07</td>\n",
       "      <td>20040723</td>\n",
       "      <td>NaN</td>\n",
       "      <td>20040817</td>\n",
       "      <td>A</td>\n",
       "      <td>NaN</td>\n",
       "      <td>NaN</td>\n",
       "      <td>0.02496</td>\n",
       "    </tr>\n",
       "    <tr>\n",
       "      <th>3</th>\n",
       "      <td>PF00001006</td>\n",
       "      <td>DSK00001005</td>\n",
       "      <td>OFF00001001</td>\n",
       "      <td>A</td>\n",
       "      <td>20040609</td>\n",
       "      <td>164813000.0</td>\n",
       "      <td>T</td>\n",
       "      <td>0.02074</td>\n",
       "      <td>USD</td>\n",
       "      <td>2.332216</td>\n",
       "      <td>1.645088e+08</td>\n",
       "      <td>20040723</td>\n",
       "      <td>NaN</td>\n",
       "      <td>20040713</td>\n",
       "      <td>A</td>\n",
       "      <td>NaN</td>\n",
       "      <td>NaN</td>\n",
       "      <td>0.02496</td>\n",
       "    </tr>\n",
       "    <tr>\n",
       "      <th>4</th>\n",
       "      <td>PF00001007</td>\n",
       "      <td>DSK00001005</td>\n",
       "      <td>OFF00001002</td>\n",
       "      <td>B</td>\n",
       "      <td>20040609</td>\n",
       "      <td>140800000.0</td>\n",
       "      <td>T</td>\n",
       "      <td>0.02074</td>\n",
       "      <td>USD</td>\n",
       "      <td>2.332216</td>\n",
       "      <td>1.405402e+08</td>\n",
       "      <td>20040723</td>\n",
       "      <td>NaN</td>\n",
       "      <td>20040713</td>\n",
       "      <td>B</td>\n",
       "      <td>NaN</td>\n",
       "      <td>NaN</td>\n",
       "      <td>0.02496</td>\n",
       "    </tr>\n",
       "  </tbody>\n",
       "</table>\n",
       "</div>"
      ],
      "text/plain": [
       "  portfolio_id      desk_id    office_id pf_category  start_date         sold  \\\n",
       "0   PF00001002  DSK00001001  OFF00001002           B    20040720  110000000.0   \n",
       "1   PF00001003  DSK00001002  OFF00001001           A    20040709  176671000.0   \n",
       "2   PF00001005  DSK00001004  OFF00001001           A    20040723   56474000.0   \n",
       "3   PF00001006  DSK00001005  OFF00001001           A    20040609  164813000.0   \n",
       "4   PF00001007  DSK00001005  OFF00001002           B    20040609  140800000.0   \n",
       "\n",
       "  country_code  euribor_rate currency  libor_rate        bought  \\\n",
       "0            T       0.02074      USD    2.332216  1.098097e+08   \n",
       "1            N       0.02074      GBP    5.269617  1.760084e+08   \n",
       "2            T       0.02074      USD    2.332216  5.637953e+07   \n",
       "3            T       0.02074      USD    2.332216  1.645088e+08   \n",
       "4            T       0.02074      USD    2.332216  1.405402e+08   \n",
       "\n",
       "   creation_date indicator_code  sell_date type hedge_value status   return  \n",
       "0       20040720            NaN   20040812    B         NaN    NaN  0.02496  \n",
       "1       20040723            NaN   20040812    C         NaN    NaN  0.05496  \n",
       "2       20040723            NaN   20040817    A         NaN    NaN  0.02496  \n",
       "3       20040723            NaN   20040713    A         NaN    NaN  0.02496  \n",
       "4       20040723            NaN   20040713    B         NaN    NaN  0.02496  "
      ]
     },
     "execution_count": 3,
     "metadata": {},
     "output_type": "execute_result"
    }
   ],
   "source": [
    "train.head()"
   ]
  },
  {
   "cell_type": "code",
   "execution_count": 4,
   "metadata": {},
   "outputs": [
    {
     "name": "stdout",
     "output_type": "stream",
     "text": [
      "Shape of train data: (9366, 18)\n",
      "Shape of testing Data: (4801, 17)\n"
     ]
    }
   ],
   "source": [
    "print('Shape of train data:', train.shape)\n",
    "print('Shape of testing Data:', test.shape)"
   ]
  },
  {
   "cell_type": "code",
   "execution_count": 5,
   "metadata": {
    "collapsed": true
   },
   "outputs": [],
   "source": [
    "null_cols = [key for key, value in train.isnull().any().iteritems() if value==True]"
   ]
  },
  {
   "cell_type": "code",
   "execution_count": 6,
   "metadata": {},
   "outputs": [
    {
     "name": "stdout",
     "output_type": "stream",
     "text": [
      "Number of Null values:\n",
      "desk_id = 3665\n",
      "sold = 2\n",
      "libor_rate = 474\n",
      "bought = 2\n",
      "indicator_code = 5699\n",
      "hedge_value = 5701\n",
      "status = 3084\n"
     ]
    }
   ],
   "source": [
    "# Count Null Values\n",
    "null_list = train.isnull()\n",
    "print ('Number of Null values:')\n",
    "for col in null_cols:\n",
    "    print ('{} = {}'.format(col, sum(null_list[col])))"
   ]
  },
  {
   "cell_type": "markdown",
   "metadata": {},
   "source": [
    "#### Extract Features"
   ]
  },
  {
   "cell_type": "code",
   "execution_count": 7,
   "metadata": {
    "collapsed": true
   },
   "outputs": [],
   "source": [
    "#### Start Date\n",
    "train['start_year'] = train['start_date'].apply(lambda x: int(str(x)[0:4]))\n",
    "train['start_month'] = train['start_date'].apply(lambda x: int(str(x)[4:6]))\n",
    "train['start_date'] = train['start_date'].apply(lambda x: int(str(x)[6:8]))\n",
    "\n",
    "test['start_year'] = test['start_date'].apply(lambda x: int(str(x)[0:4]))\n",
    "test['start_month'] = test['start_date'].apply(lambda x: int(str(x)[4:6]))\n",
    "test['start_date'] = test['start_date'].apply(lambda x: int(str(x)[6:8]))"
   ]
  },
  {
   "cell_type": "code",
   "execution_count": 8,
   "metadata": {
    "collapsed": true
   },
   "outputs": [],
   "source": [
    "#### Creation Date\n",
    "train['create_year'] = train['creation_date'].apply(lambda x: int(str(x)[0:4]))\n",
    "train['create_month'] = train['creation_date'].apply(lambda x: int(str(x)[4:6]))\n",
    "train['create_date'] = train['creation_date'].apply(lambda x: int(str(x)[6:8]))\n",
    "\n",
    "test['create_year'] = test['creation_date'].apply(lambda x: int(str(x)[0:4]))\n",
    "test['create_month'] = test['creation_date'].apply(lambda x: int(str(x)[4:6]))\n",
    "test['create_date'] = test['creation_date'].apply(lambda x: int(str(x)[6:8]))"
   ]
  },
  {
   "cell_type": "code",
   "execution_count": 9,
   "metadata": {
    "collapsed": true
   },
   "outputs": [],
   "source": [
    "#### Sell date\n",
    "train['sell_year'] = train['sell_date'].apply(lambda x: int(str(x)[0:4]))\n",
    "train['sell_month'] = train['sell_date'].apply(lambda x: int(str(x)[4:6]))\n",
    "train['sell_date'] = train['sell_date'].apply(lambda x: int(str(x)[6:8]))\n",
    "\n",
    "test['sell_year'] = test['sell_date'].apply(lambda x: int(str(x)[0:4]))\n",
    "test['sell_month'] = test['sell_date'].apply(lambda x: int(str(x)[4:6]))\n",
    "test['sell_date'] = test['sell_date'].apply(lambda x: int(str(x)[6:8]))"
   ]
  },
  {
   "cell_type": "code",
   "execution_count": 10,
   "metadata": {},
   "outputs": [
    {
     "data": {
      "text/plain": [
       "portfolio_id       object\n",
       "desk_id            object\n",
       "office_id          object\n",
       "pf_category        object\n",
       "start_date          int64\n",
       "sold              float64\n",
       "country_code       object\n",
       "euribor_rate      float64\n",
       "currency           object\n",
       "libor_rate        float64\n",
       "bought            float64\n",
       "creation_date       int64\n",
       "indicator_code     object\n",
       "sell_date           int64\n",
       "type               object\n",
       "hedge_value        object\n",
       "status             object\n",
       "return            float64\n",
       "start_year          int64\n",
       "start_month         int64\n",
       "create_year         int64\n",
       "create_month        int64\n",
       "create_date         int64\n",
       "sell_year           int64\n",
       "sell_month          int64\n",
       "dtype: object"
      ]
     },
     "execution_count": 10,
     "metadata": {},
     "output_type": "execute_result"
    }
   ],
   "source": [
    "train.dtypes"
   ]
  },
  {
   "cell_type": "markdown",
   "metadata": {},
   "source": [
    "#### Preprocessing Data"
   ]
  },
  {
   "cell_type": "code",
   "execution_count": 11,
   "metadata": {
    "collapsed": true
   },
   "outputs": [],
   "source": [
    "train.fillna(-999, inplace=True)\n",
    "test.fillna(-999, inplace=True)"
   ]
  },
  {
   "cell_type": "code",
   "execution_count": 12,
   "metadata": {},
   "outputs": [
    {
     "data": {
      "text/plain": [
       "Index(['portfolio_id', 'desk_id', 'office_id', 'pf_category', 'start_date',\n",
       "       'sold', 'country_code', 'euribor_rate', 'currency', 'libor_rate',\n",
       "       'bought', 'creation_date', 'indicator_code', 'sell_date', 'type',\n",
       "       'hedge_value', 'status', 'return', 'start_year', 'start_month',\n",
       "       'create_year', 'create_month', 'create_date', 'sell_year',\n",
       "       'sell_month'],\n",
       "      dtype='object')"
      ]
     },
     "execution_count": 12,
     "metadata": {},
     "output_type": "execute_result"
    }
   ],
   "source": [
    "train.columns"
   ]
  },
  {
   "cell_type": "code",
   "execution_count": 13,
   "metadata": {
    "collapsed": true
   },
   "outputs": [],
   "source": [
    "cols = list(train.columns)\n",
    "cols.remove('return')\n",
    "cols.remove('portfolio_id')"
   ]
  },
  {
   "cell_type": "code",
   "execution_count": 14,
   "metadata": {},
   "outputs": [
    {
     "name": "stderr",
     "output_type": "stream",
     "text": [
      "100%|██████████| 23/23 [00:00<00:00, 102.66it/s]\n"
     ]
    }
   ],
   "source": [
    "for col in tqdm(cols):\n",
    "    if train[col].dtype == 'object':\n",
    "        train[col] = train[col].apply(str)\n",
    "        test[col] = test[col].apply(str)\n",
    "\n",
    "        le = LabelEncoder()\n",
    "        train_vals = list(train[col].unique())\n",
    "        test_vals = list(test[col].unique())\n",
    "        le.fit(train_vals + test_vals)\n",
    "        train[col] = le.transform(train[col])\n",
    "        test[col] = le.transform(test[col])"
   ]
  },
  {
   "cell_type": "markdown",
   "metadata": {},
   "source": [
    "#### Creating Train and Test Files"
   ]
  },
  {
   "cell_type": "code",
   "execution_count": 16,
   "metadata": {},
   "outputs": [],
   "source": [
    "import lightgbm as lgb\n",
    "import xgboost as xgb"
   ]
  },
  {
   "cell_type": "code",
   "execution_count": 17,
   "metadata": {
    "collapsed": true
   },
   "outputs": [],
   "source": [
    "X = train.drop(['return', 'portfolio_id'], axis=1)\n",
    "y = train['return']"
   ]
  },
  {
   "cell_type": "code",
   "execution_count": 18,
   "metadata": {
    "collapsed": true
   },
   "outputs": [],
   "source": [
    "X_test = test.drop(['portfolio_id'], axis=1)\n",
    "ids = test.portfolio_id"
   ]
  },
  {
   "cell_type": "code",
   "execution_count": 19,
   "metadata": {
    "collapsed": true
   },
   "outputs": [],
   "source": [
    "from sklearn.metrics import r2_score\n",
    "def r2_score_lgb(pred, dtrain):\n",
    "    y = dtrain.get_label()\n",
    "    score = r2_score(y_true=y, y_pred=pred)\n",
    "    return 'r2-score', score"
   ]
  },
  {
   "cell_type": "code",
   "execution_count": 20,
   "metadata": {},
   "outputs": [],
   "source": [
    "from sklearn.model_selection import train_test_split\n",
    "X_train, X_valid, y_train, y_valid = train_test_split(X, y, random_state=47)"
   ]
  },
  {
   "cell_type": "code",
   "execution_count": 26,
   "metadata": {},
   "outputs": [],
   "source": [
    "dtrain = xgb.DMatrix(data=X_train, label=y_train)\n",
    "dvalid = xgb.DMatrix(data=X_valid, label=y_valid)"
   ]
  },
  {
   "cell_type": "markdown",
   "metadata": {},
   "source": [
    "#### Training the model"
   ]
  },
  {
   "cell_type": "code",
   "execution_count": 40,
   "metadata": {
    "collapsed": true
   },
   "outputs": [],
   "source": [
    "params = {}\n",
    "params['objective'] = 'reg:linear'\n",
    "params['eta'] = 0.01\n",
    "params['max_depth'] = 15\n",
    "params['silent'] = 0\n",
    "params['max_bin'] = 256\n",
    "params['max_leaf_nodes'] = 2**10\n",
    "params['subsample'] = 0.80\n",
    "params['colsample_bytree'] = 0.80\n",
    "params['scale_pos_weight'] = 1.6\n",
    "params['gamma'] = 10\n",
    "params['alpha'] = 8\n",
    "params['reg_lambda'] = 1.3"
   ]
  },
  {
   "cell_type": "code",
   "execution_count": 43,
   "metadata": {
    "collapsed": true
   },
   "outputs": [],
   "source": [
    "eval_set = [(dtrain, 'train'), (dvalid, 'valid')]"
   ]
  },
  {
   "cell_type": "code",
   "execution_count": 42,
   "metadata": {},
   "outputs": [
    {
     "name": "stdout",
     "output_type": "stream",
     "text": [
      "[0]\ttrain-r2-score:-515.645\tvalid-r2-score:-675.659\n",
      "Multiple eval metrics have been passed: 'valid-r2-score' will be used for early stopping.\n",
      "\n",
      "Will train until valid-r2-score hasn't improved in 80 rounds.\n",
      "[20]\ttrain-r2-score:-345.431\tvalid-r2-score:-452.848\n",
      "[40]\ttrain-r2-score:-231.475\tvalid-r2-score:-303.638\n",
      "[60]\ttrain-r2-score:-155.17\tvalid-r2-score:-203.694\n",
      "[80]\ttrain-r2-score:-104.058\tvalid-r2-score:-136.72\n",
      "[100]\ttrain-r2-score:-69.821\tvalid-r2-score:-91.8372\n",
      "[120]\ttrain-r2-score:-46.8834\tvalid-r2-score:-61.7488\n",
      "[140]\ttrain-r2-score:-31.5042\tvalid-r2-score:-41.5603\n",
      "[160]\ttrain-r2-score:-21.1882\tvalid-r2-score:-28.0064\n",
      "[180]\ttrain-r2-score:-14.2666\tvalid-r2-score:-18.9026\n",
      "[200]\ttrain-r2-score:-9.62162\tvalid-r2-score:-12.7851\n",
      "[220]\ttrain-r2-score:-6.49987\tvalid-r2-score:-8.66718\n",
      "[240]\ttrain-r2-score:-4.39994\tvalid-r2-score:-5.89188\n",
      "[260]\ttrain-r2-score:-2.98633\tvalid-r2-score:-4.0193\n",
      "[280]\ttrain-r2-score:-2.03275\tvalid-r2-score:-2.75262\n",
      "[300]\ttrain-r2-score:-1.38855\tvalid-r2-score:-1.89405\n",
      "[320]\ttrain-r2-score:-0.952924\tvalid-r2-score:-1.31116\n",
      "[340]\ttrain-r2-score:-0.656988\tvalid-r2-score:-0.913311\n",
      "[360]\ttrain-r2-score:-0.455751\tvalid-r2-score:-0.641266\n",
      "[380]\ttrain-r2-score:-0.318537\tvalid-r2-score:-0.454561\n",
      "[400]\ttrain-r2-score:-0.224671\tvalid-r2-score:-0.325871\n",
      "[420]\ttrain-r2-score:-0.160067\tvalid-r2-score:-0.236527\n",
      "[440]\ttrain-r2-score:-0.115342\tvalid-r2-score:-0.17406\n",
      "[460]\ttrain-r2-score:-0.084251\tvalid-r2-score:-0.130151\n",
      "[480]\ttrain-r2-score:-0.062196\tvalid-r2-score:-0.098618\n",
      "[500]\ttrain-r2-score:-0.046891\tvalid-r2-score:-0.076439\n",
      "[520]\ttrain-r2-score:-0.035883\tvalid-r2-score:-0.060257\n",
      "[540]\ttrain-r2-score:-0.027992\tvalid-r2-score:-0.048479\n",
      "[560]\ttrain-r2-score:-0.022291\tvalid-r2-score:-0.039837\n",
      "[580]\ttrain-r2-score:-0.018209\tvalid-r2-score:-0.033551\n",
      "[600]\ttrain-r2-score:-0.014976\tvalid-r2-score:-0.028495\n",
      "[620]\ttrain-r2-score:-0.012574\tvalid-r2-score:-0.024677\n",
      "[640]\ttrain-r2-score:-0.010771\tvalid-r2-score:-0.021769\n",
      "[660]\ttrain-r2-score:-0.009499\tvalid-r2-score:-0.019688\n",
      "[680]\ttrain-r2-score:-0.008471\tvalid-r2-score:-0.017987\n",
      "[700]\ttrain-r2-score:-0.007676\tvalid-r2-score:-0.016655\n",
      "[720]\ttrain-r2-score:-0.007062\tvalid-r2-score:-0.015616\n",
      "[740]\ttrain-r2-score:-0.006518\tvalid-r2-score:-0.014687\n",
      "[760]\ttrain-r2-score:-0.006119\tvalid-r2-score:-0.013999\n",
      "[780]\ttrain-r2-score:-0.005803\tvalid-r2-score:-0.013452\n",
      "[800]\ttrain-r2-score:-0.005587\tvalid-r2-score:-0.013075\n",
      "[820]\ttrain-r2-score:-0.005407\tvalid-r2-score:-0.012758\n",
      "[840]\ttrain-r2-score:-0.005208\tvalid-r2-score:-0.012408\n",
      "[860]\ttrain-r2-score:-0.005056\tvalid-r2-score:-0.012139\n",
      "[880]\ttrain-r2-score:-0.004904\tvalid-r2-score:-0.011869\n",
      "[900]\ttrain-r2-score:-0.004822\tvalid-r2-score:-0.011723\n",
      "[920]\ttrain-r2-score:-0.004752\tvalid-r2-score:-0.011598\n",
      "[940]\ttrain-r2-score:-0.004658\tvalid-r2-score:-0.01143\n",
      "[960]\ttrain-r2-score:-0.004554\tvalid-r2-score:-0.011245\n",
      "[980]\ttrain-r2-score:-0.004484\tvalid-r2-score:-0.011118\n",
      "[1000]\ttrain-r2-score:-0.004436\tvalid-r2-score:-0.011031\n",
      "[1020]\ttrain-r2-score:-0.004378\tvalid-r2-score:-0.010926\n",
      "[1040]\ttrain-r2-score:-0.004354\tvalid-r2-score:-0.010883\n",
      "[1060]\ttrain-r2-score:-0.00428\tvalid-r2-score:-0.01075\n",
      "[1080]\ttrain-r2-score:-0.004262\tvalid-r2-score:-0.010717\n",
      "[1100]\ttrain-r2-score:-0.004206\tvalid-r2-score:-0.010616\n",
      "[1120]\ttrain-r2-score:-0.004172\tvalid-r2-score:-0.010554\n",
      "[1140]\ttrain-r2-score:-0.004134\tvalid-r2-score:-0.010484\n",
      "[1160]\ttrain-r2-score:-0.004118\tvalid-r2-score:-0.010455\n",
      "[1180]\ttrain-r2-score:-0.004084\tvalid-r2-score:-0.010392\n",
      "[1200]\ttrain-r2-score:-0.00406\tvalid-r2-score:-0.01035\n",
      "[1220]\ttrain-r2-score:-0.004032\tvalid-r2-score:-0.010299\n",
      "[1240]\ttrain-r2-score:-0.004007\tvalid-r2-score:-0.010253\n",
      "[1260]\ttrain-r2-score:-0.003981\tvalid-r2-score:-0.010204\n",
      "[1280]\ttrain-r2-score:-0.00396\tvalid-r2-score:-0.010166\n",
      "[1300]\ttrain-r2-score:-0.003933\tvalid-r2-score:-0.010117\n",
      "[1320]\ttrain-r2-score:-0.00391\tvalid-r2-score:-0.010075\n",
      "[1340]\ttrain-r2-score:-0.00389\tvalid-r2-score:-0.010039\n",
      "[1360]\ttrain-r2-score:-0.003848\tvalid-r2-score:-0.009961\n",
      "[1380]\ttrain-r2-score:-0.0038\tvalid-r2-score:-0.009872\n",
      "[1400]\ttrain-r2-score:-0.003788\tvalid-r2-score:-0.009851\n",
      "[1420]\ttrain-r2-score:-0.003781\tvalid-r2-score:-0.009838\n",
      "[1440]\ttrain-r2-score:-0.003766\tvalid-r2-score:-0.009809\n",
      "[1460]\ttrain-r2-score:-0.003744\tvalid-r2-score:-0.009769\n",
      "[1480]\ttrain-r2-score:-0.003727\tvalid-r2-score:-0.009738\n",
      "[1500]\ttrain-r2-score:-0.003721\tvalid-r2-score:-0.009727\n",
      "[1520]\ttrain-r2-score:-0.003705\tvalid-r2-score:-0.009698\n",
      "[1540]\ttrain-r2-score:-0.003701\tvalid-r2-score:-0.00969\n",
      "[1560]\ttrain-r2-score:-0.003696\tvalid-r2-score:-0.009681\n",
      "[1580]\ttrain-r2-score:-0.003678\tvalid-r2-score:-0.009647\n",
      "[1600]\ttrain-r2-score:-0.003674\tvalid-r2-score:-0.00964\n",
      "[1620]\ttrain-r2-score:-0.003666\tvalid-r2-score:-0.009625\n",
      "[1640]\ttrain-r2-score:-0.003646\tvalid-r2-score:-0.009588\n",
      "[1660]\ttrain-r2-score:-0.003632\tvalid-r2-score:-0.009563\n",
      "[1680]\ttrain-r2-score:-0.003623\tvalid-r2-score:-0.009546\n",
      "[1700]\ttrain-r2-score:-0.003623\tvalid-r2-score:-0.009546\n",
      "[1720]\ttrain-r2-score:-0.00362\tvalid-r2-score:-0.00954\n",
      "[1740]\ttrain-r2-score:-0.003595\tvalid-r2-score:-0.009492\n",
      "[1760]\ttrain-r2-score:-0.003586\tvalid-r2-score:-0.009477\n",
      "[1780]\ttrain-r2-score:-0.003577\tvalid-r2-score:-0.009459\n",
      "[1800]\ttrain-r2-score:-0.003565\tvalid-r2-score:-0.009437\n",
      "[1820]\ttrain-r2-score:-0.003565\tvalid-r2-score:-0.009437\n",
      "[1840]\ttrain-r2-score:-0.003559\tvalid-r2-score:-0.009427\n",
      "[1860]\ttrain-r2-score:-0.003556\tvalid-r2-score:-0.009422\n",
      "[1880]\ttrain-r2-score:-0.00355\tvalid-r2-score:-0.00941\n",
      "[1900]\ttrain-r2-score:-0.003531\tvalid-r2-score:-0.009374\n",
      "[1920]\ttrain-r2-score:-0.003529\tvalid-r2-score:-0.00937\n",
      "[1940]\ttrain-r2-score:-0.003526\tvalid-r2-score:-0.009365\n",
      "[1960]\ttrain-r2-score:-0.003526\tvalid-r2-score:-0.009365\n",
      "[1980]\ttrain-r2-score:-0.003511\tvalid-r2-score:-0.009337\n",
      "[2000]\ttrain-r2-score:-0.003508\tvalid-r2-score:-0.009332\n",
      "[2020]\ttrain-r2-score:-0.003505\tvalid-r2-score:-0.009327\n",
      "[2040]\ttrain-r2-score:-0.003494\tvalid-r2-score:-0.009305\n",
      "[2060]\ttrain-r2-score:-0.00349\tvalid-r2-score:-0.009298\n",
      "[2080]\ttrain-r2-score:-0.003483\tvalid-r2-score:-0.009284\n",
      "[2100]\ttrain-r2-score:-0.003468\tvalid-r2-score:-0.009257\n",
      "[2120]\ttrain-r2-score:-0.003461\tvalid-r2-score:-0.009244\n",
      "[2140]\ttrain-r2-score:-0.003459\tvalid-r2-score:-0.009239\n",
      "[2160]\ttrain-r2-score:-0.003456\tvalid-r2-score:-0.009235\n",
      "[2180]\ttrain-r2-score:-0.003455\tvalid-r2-score:-0.009233\n",
      "[2200]\ttrain-r2-score:-0.003452\tvalid-r2-score:-0.009226\n",
      "[2220]\ttrain-r2-score:-0.003451\tvalid-r2-score:-0.009224\n",
      "[2240]\ttrain-r2-score:-0.00344\tvalid-r2-score:-0.009205\n",
      "[2260]\ttrain-r2-score:-0.003431\tvalid-r2-score:-0.009188\n",
      "[2280]\ttrain-r2-score:-0.003423\tvalid-r2-score:-0.009173\n",
      "[2300]\ttrain-r2-score:-0.003419\tvalid-r2-score:-0.009165\n",
      "[2320]\ttrain-r2-score:-0.003415\tvalid-r2-score:-0.009157\n",
      "[2340]\ttrain-r2-score:-0.003404\tvalid-r2-score:-0.009137\n",
      "[2360]\ttrain-r2-score:-0.003401\tvalid-r2-score:-0.009131\n",
      "[2380]\ttrain-r2-score:-0.003384\tvalid-r2-score:-0.0091\n",
      "[2400]\ttrain-r2-score:-0.003382\tvalid-r2-score:-0.009095\n",
      "[2420]\ttrain-r2-score:-0.003371\tvalid-r2-score:-0.009076\n",
      "[2440]\ttrain-r2-score:-0.003367\tvalid-r2-score:-0.009068\n",
      "[2460]\ttrain-r2-score:-0.003351\tvalid-r2-score:-0.009037\n",
      "[2480]\ttrain-r2-score:-0.003351\tvalid-r2-score:-0.009037\n",
      "[2500]\ttrain-r2-score:-0.003344\tvalid-r2-score:-0.009025\n",
      "[2520]\ttrain-r2-score:-0.003335\tvalid-r2-score:-0.009008\n",
      "[2540]\ttrain-r2-score:-0.003335\tvalid-r2-score:-0.009008\n",
      "[2560]\ttrain-r2-score:-0.003334\tvalid-r2-score:-0.009005\n",
      "[2580]\ttrain-r2-score:-0.003334\tvalid-r2-score:-0.009005\n",
      "[2600]\ttrain-r2-score:-0.003313\tvalid-r2-score:-0.008967\n",
      "[2620]\ttrain-r2-score:-0.003302\tvalid-r2-score:-0.008945\n",
      "[2640]\ttrain-r2-score:-0.003287\tvalid-r2-score:-0.008917\n",
      "[2660]\ttrain-r2-score:-0.003287\tvalid-r2-score:-0.008917\n",
      "[2680]\ttrain-r2-score:-0.003287\tvalid-r2-score:-0.008917\n",
      "[2700]\ttrain-r2-score:-0.003286\tvalid-r2-score:-0.008916\n",
      "[2720]\ttrain-r2-score:-0.003286\tvalid-r2-score:-0.008916\n",
      "[2740]\ttrain-r2-score:-0.003286\tvalid-r2-score:-0.008916\n",
      "[2760]\ttrain-r2-score:-0.003284\tvalid-r2-score:-0.008912\n",
      "[2780]\ttrain-r2-score:-0.003273\tvalid-r2-score:-0.008892\n",
      "[2800]\ttrain-r2-score:-0.003273\tvalid-r2-score:-0.008892\n",
      "[2820]\ttrain-r2-score:-0.003273\tvalid-r2-score:-0.008892\n",
      "[2840]\ttrain-r2-score:-0.003271\tvalid-r2-score:-0.008886\n",
      "[2860]\ttrain-r2-score:-0.003271\tvalid-r2-score:-0.008886\n"
     ]
    },
    {
     "name": "stdout",
     "output_type": "stream",
     "text": [
      "[2880]\ttrain-r2-score:-0.003268\tvalid-r2-score:-0.008881\n",
      "[2900]\ttrain-r2-score:-0.003268\tvalid-r2-score:-0.008881\n",
      "[2920]\ttrain-r2-score:-0.003264\tvalid-r2-score:-0.008874\n",
      "[2940]\ttrain-r2-score:-0.003263\tvalid-r2-score:-0.008872\n",
      "[2960]\ttrain-r2-score:-0.003263\tvalid-r2-score:-0.008872\n",
      "[2980]\ttrain-r2-score:-0.003263\tvalid-r2-score:-0.008872\n",
      "[3000]\ttrain-r2-score:-0.003263\tvalid-r2-score:-0.008872\n",
      "Stopping. Best iteration:\n",
      "[2936]\ttrain-r2-score:-0.003263\tvalid-r2-score:-0.008872\n",
      "\n"
     ]
    }
   ],
   "source": [
    "model = xgb.train(params, dtrain=dtrain, evals=eval_set, num_boost_round=5000, verbose_eval=20, early_stopping_rounds=80, feval=r2_score_lgb, maximize=True)"
   ]
  },
  {
   "cell_type": "code",
   "execution_count": null,
   "metadata": {},
   "outputs": [],
   "source": [
    "from sklearn.svm import SVR\n",
    "\n",
    "svr = SVR(kernel='linear')\n",
    "svr.fit(X_train, y_train)"
   ]
  },
  {
   "cell_type": "code",
   "execution_count": null,
   "metadata": {},
   "outputs": [],
   "source": [
    "pred = svr.predict(X_valid)\n",
    "print('R2_score:', r2_score(y_valid, pred))"
   ]
  },
  {
   "cell_type": "markdown",
   "metadata": {},
   "source": [
    "#### Predict Labels"
   ]
  },
  {
   "cell_type": "code",
   "execution_count": null,
   "metadata": {},
   "outputs": [],
   "source": [
    "dtest= xgb.DMatrix(X_test)\n",
    "p_test = model.predict(dtest)"
   ]
  },
  {
   "cell_type": "markdown",
   "metadata": {},
   "source": [
    "#### Creating submission files"
   ]
  },
  {
   "cell_type": "code",
   "execution_count": null,
   "metadata": {
    "collapsed": true
   },
   "outputs": [],
   "source": [
    "subm = pd.DataFrame()\n",
    "subm['portfolio_id'] = ids\n",
    "subm['return'] = p_test"
   ]
  },
  {
   "cell_type": "markdown",
   "metadata": {},
   "source": [
    "#### Saving submission file"
   ]
  },
  {
   "cell_type": "code",
   "execution_count": null,
   "metadata": {
    "collapsed": true
   },
   "outputs": [],
   "source": [
    "subm.to_csv('submit.csv', index=False)"
   ]
  },
  {
   "cell_type": "code",
   "execution_count": null,
   "metadata": {
    "collapsed": true
   },
   "outputs": [],
   "source": []
  }
 ],
 "metadata": {
  "kernelspec": {
   "display_name": "Python 3",
   "language": "python",
   "name": "python3"
  },
  "language_info": {
   "codemirror_mode": {
    "name": "ipython",
    "version": 3
   },
   "file_extension": ".py",
   "mimetype": "text/x-python",
   "name": "python",
   "nbconvert_exporter": "python",
   "pygments_lexer": "ipython3",
   "version": "3.6.1"
  }
 },
 "nbformat": 4,
 "nbformat_minor": 2
}
